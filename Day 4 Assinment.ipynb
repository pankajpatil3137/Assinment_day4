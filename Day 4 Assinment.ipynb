{
 "cells": [
  {
   "cell_type": "code",
   "execution_count": 1,
   "metadata": {},
   "outputs": [
    {
     "name": "stdout",
     "output_type": "stream",
     "text": [
      "Substraction of  37.69  + 17.73 = 19.959999999999997\n"
     ]
    }
   ],
   "source": [
    "#Substraction two numbers\n",
    "\n",
    "num = 37.69\n",
    "num2 = 17.73\n",
    "\n",
    "sub= num - num2\n",
    "\n",
    "print(\"Substraction of \",num,\" +\",num2,\"=\",sub)"
   ]
  },
  {
   "cell_type": "code",
   "execution_count": null,
   "metadata": {},
   "outputs": [],
   "source": []
  },
  {
   "cell_type": "code",
   "execution_count": 3,
   "metadata": {},
   "outputs": [
    {
     "name": "stdout",
     "output_type": "stream",
     "text": [
      "enter first number 55.67\n",
      "enter second number 34.45\n",
      "21.22\n"
     ]
    }
   ],
   "source": [
    "n1 = input(\"enter first number \")\n",
    "n2 = input(\"enter second number \")\n",
    "\n",
    "sub =float(n1)-float(n2)\n",
    "\n",
    "print(sub)"
   ]
  },
  {
   "cell_type": "code",
   "execution_count": null,
   "metadata": {},
   "outputs": [],
   "source": []
  },
  {
   "cell_type": "code",
   "execution_count": null,
   "metadata": {},
   "outputs": [],
   "source": [
    "#Multiplication"
   ]
  },
  {
   "cell_type": "code",
   "execution_count": 7,
   "metadata": {},
   "outputs": [
    {
     "name": "stdout",
     "output_type": "stream",
     "text": [
      "mul of 37.69 + 17.73 = 668.2437\n"
     ]
    }
   ],
   "source": [
    "num = 37.69\n",
    "num2 = 17.73\n",
    "\n",
    "mul = num * num2\n",
    "\n",
    "print(\"mul of {0} + {1} = {2}\".format(num,num2,mul))"
   ]
  },
  {
   "cell_type": "code",
   "execution_count": null,
   "metadata": {},
   "outputs": [],
   "source": []
  },
  {
   "cell_type": "code",
   "execution_count": 8,
   "metadata": {},
   "outputs": [
    {
     "name": "stdout",
     "output_type": "stream",
     "text": [
      "Enter first no.34\n",
      "Enter second no.44\n",
      "The multiplication is 1496.0\n"
     ]
    }
   ],
   "source": [
    "print('The multiplication is %.1f' %(float(input('Enter first no.')) * float(input('Enter second no.'))))"
   ]
  },
  {
   "cell_type": "code",
   "execution_count": null,
   "metadata": {},
   "outputs": [],
   "source": []
  },
  {
   "cell_type": "code",
   "execution_count": 19,
   "metadata": {},
   "outputs": [],
   "source": [
    "#division"
   ]
  },
  {
   "cell_type": "code",
   "execution_count": null,
   "metadata": {},
   "outputs": [],
   "source": []
  },
  {
   "cell_type": "code",
   "execution_count": 20,
   "metadata": {},
   "outputs": [
    {
     "name": "stdout",
     "output_type": "stream",
     "text": [
      "Enter first no.456.7\n",
      "Enter second no.7\n",
      "The div is 65.2\n"
     ]
    }
   ],
   "source": [
    "print('The div is %.1f' %(float(input('Enter first no.')) / float(input('Enter second no.'))))"
   ]
  },
  {
   "cell_type": "code",
   "execution_count": null,
   "metadata": {},
   "outputs": [],
   "source": []
  },
  {
   "cell_type": "code",
   "execution_count": null,
   "metadata": {},
   "outputs": [],
   "source": []
  },
  {
   "cell_type": "code",
   "execution_count": null,
   "metadata": {},
   "outputs": [],
   "source": []
  },
  {
   "cell_type": "code",
   "execution_count": 9,
   "metadata": {},
   "outputs": [
    {
     "name": "stdout",
     "output_type": "stream",
     "text": [
      "first no.22\n",
      "second no.55\n",
      "ax= 55 by= 22\n"
     ]
    }
   ],
   "source": [
    "#swap of two numbers\n",
    "ax=int(input('first no.'))\n",
    "by=int(input('second no.'))\n",
    "ax=ax+by\n",
    "by=ax-by\n",
    "ax=ax-by\n",
    "print('ax=',ax ,'by=',by)"
   ]
  },
  {
   "cell_type": "code",
   "execution_count": null,
   "metadata": {},
   "outputs": [],
   "source": []
  },
  {
   "cell_type": "code",
   "execution_count": 10,
   "metadata": {},
   "outputs": [
    {
     "name": "stdout",
     "output_type": "stream",
     "text": [
      "first no.44\n",
      "second no.55\n",
      "x= 55 y= 44\n"
     ]
    }
   ],
   "source": [
    "#swap two numbers using only two numbers\n",
    "x=input('first no.')\n",
    "y=input('second no.')\n",
    "x,y=y,x\n",
    "print('x=',x ,'y=',y)"
   ]
  },
  {
   "cell_type": "code",
   "execution_count": null,
   "metadata": {},
   "outputs": [],
   "source": []
  },
  {
   "cell_type": "code",
   "execution_count": 11,
   "metadata": {},
   "outputs": [
    {
     "name": "stdout",
     "output_type": "stream",
     "text": [
      "no2 is maximum and no1 is minimum\n"
     ]
    }
   ],
   "source": [
    "#max and min for two no.\n",
    "no1=10\n",
    "no2=20\n",
    "\n",
    "if(no1>no2):\n",
    "\tprint('no1 is maximum and no2 is minimum')\n",
    "else :\n",
    "\tprint('no2 is maximum and no1 is minimum')\n"
   ]
  },
  {
   "cell_type": "code",
   "execution_count": null,
   "metadata": {},
   "outputs": [],
   "source": []
  },
  {
   "cell_type": "code",
   "execution_count": 16,
   "metadata": {},
   "outputs": [
    {
     "name": "stdout",
     "output_type": "stream",
     "text": [
      "first no.11\n",
      "second no.44\n",
      "third no.77\n",
      "z = 77  is maximum\n"
     ]
    }
   ],
   "source": [
    "\n",
    "#max and  from three numbers\n",
    "\n",
    "x=int(input('first no.'))\n",
    "y=int(input('second no.'))\n",
    "z=int(input('third no.'))\n",
    "\n",
    "if x>y and x>z:\n",
    "\tprint(\"x\",x,\" is maximum\")\n",
    "elif y>z :\n",
    "\tprint(\"y\",y,\" is maximum\")\n",
    "else :\n",
    "\tprint(\"z =\",z,\" is maximum\")\n"
   ]
  },
  {
   "cell_type": "code",
   "execution_count": null,
   "metadata": {},
   "outputs": [],
   "source": []
  },
  {
   "cell_type": "code",
   "execution_count": 15,
   "metadata": {},
   "outputs": [
    {
     "name": "stdout",
     "output_type": "stream",
     "text": [
      "first no.44\n",
      "second no.33\n",
      "third no.22\n",
      "z =  22  is minimum\n"
     ]
    }
   ],
   "source": [
    "#min from three numbers\n",
    "\n",
    "x=int(input('first no.'))\n",
    "y=int(input('second no.'))\n",
    "z=int(input('third no.'))\n",
    "\n",
    "if x<y and x<z:\n",
    "\tprint(\"x\",x,\" is minimum\")\n",
    "elif y<z :\n",
    "\tprint(\"y\",y,\" is minimum\")\n",
    "else :\n",
    "\tprint(\"z = \",z,\" is minimum\")"
   ]
  },
  {
   "cell_type": "code",
   "execution_count": null,
   "metadata": {},
   "outputs": [],
   "source": []
  },
  {
   "cell_type": "code",
   "execution_count": null,
   "metadata": {},
   "outputs": [],
   "source": [
    "#calendar\n"
   ]
  },
  {
   "cell_type": "code",
   "execution_count": 18,
   "metadata": {},
   "outputs": [
    {
     "name": "stdout",
     "output_type": "stream",
     "text": [
      "   February 2015\n",
      "Mo Tu We Th Fr Sa Su\n",
      "                   1\n",
      " 2  3  4  5  6  7  8\n",
      " 9 10 11 12 13 14 15\n",
      "16 17 18 19 20 21 22\n",
      "23 24 25 26 27 28\n",
      "\n"
     ]
    }
   ],
   "source": [
    "import calendar\n",
    "yy = 2015\n",
    "mm = 2\n",
    "print(calendar.month(yy,mm))"
   ]
  },
  {
   "cell_type": "code",
   "execution_count": null,
   "metadata": {},
   "outputs": [],
   "source": [
    "#square"
   ]
  },
  {
   "cell_type": "code",
   "execution_count": 21,
   "metadata": {},
   "outputs": [
    {
     "name": "stdout",
     "output_type": "stream",
     "text": [
      " p p p p p\n",
      " p\t p\n",
      " p\t p\n",
      " p p p p p \n"
     ]
    }
   ],
   "source": [
    "print(' p p p p p\\n','p\\t','p\\n','p\\t','p\\n','p p p p p ')"
   ]
  },
  {
   "cell_type": "code",
   "execution_count": null,
   "metadata": {},
   "outputs": [],
   "source": []
  },
  {
   "cell_type": "code",
   "execution_count": null,
   "metadata": {},
   "outputs": [],
   "source": [
    "#circle"
   ]
  },
  {
   "cell_type": "code",
   "execution_count": 22,
   "metadata": {},
   "outputs": [
    {
     "name": "stdout",
     "output_type": "stream",
     "text": [
      "   p p p  \n",
      " p\t p\n",
      " p\t p\n",
      "   p p p   \n"
     ]
    }
   ],
   "source": [
    "print('   p p p  \\n','p\\t','p\\n','p\\t','p\\n','  p p p   ')"
   ]
  },
  {
   "cell_type": "code",
   "execution_count": null,
   "metadata": {},
   "outputs": [],
   "source": []
  },
  {
   "cell_type": "code",
   "execution_count": null,
   "metadata": {},
   "outputs": [],
   "source": [
    "#rectangle"
   ]
  },
  {
   "cell_type": "code",
   "execution_count": 23,
   "metadata": {},
   "outputs": [
    {
     "name": "stdout",
     "output_type": "stream",
     "text": [
      " p p p p p p p p p\n",
      " p\t\t p\n",
      " p\t\t p\n",
      " p p p p p p p p p \n"
     ]
    }
   ],
   "source": [
    "print(' p p p p p p p p p\\n','p\\t\\t','p\\n','p\\t\\t','p\\n','p p p p p p p p p ')"
   ]
  },
  {
   "cell_type": "code",
   "execution_count": null,
   "metadata": {},
   "outputs": [],
   "source": []
  },
  {
   "cell_type": "code",
   "execution_count": null,
   "metadata": {},
   "outputs": [],
   "source": [
    "#triangle"
   ]
  },
  {
   "cell_type": "code",
   "execution_count": 24,
   "metadata": {},
   "outputs": [
    {
     "name": "stdout",
     "output_type": "stream",
     "text": [
      "         p    \n",
      "      p\t    p\n",
      "    p\t       p\n",
      "   p   p   p   p  p\n"
     ]
    }
   ],
   "source": [
    "print('         p    \\n','     p\\t','   p\\n','   p\\t','      p\\n','  p   p   p   p  p')"
   ]
  },
  {
   "cell_type": "code",
   "execution_count": null,
   "metadata": {},
   "outputs": [],
   "source": []
  },
  {
   "cell_type": "code",
   "execution_count": null,
   "metadata": {},
   "outputs": [],
   "source": [
    "#string formating"
   ]
  },
  {
   "cell_type": "code",
   "execution_count": 25,
   "metadata": {},
   "outputs": [
    {
     "name": "stdout",
     "output_type": "stream",
     "text": [
      "Hellow To All Welcome To The World Of Python And Lets All Come Together To Learn Python\n"
     ]
    }
   ],
   "source": [
    "fullname =\"hellow to all welcome to the world of python and lets all come together to learn python\"\n",
    "print(fullname.title())"
   ]
  },
  {
   "cell_type": "code",
   "execution_count": 29,
   "metadata": {},
   "outputs": [
    {
     "name": "stdout",
     "output_type": "stream",
     "text": [
      "all\n",
      "all\n",
      "and\n",
      "come\n",
      "hellow\n",
      "learn\n",
      "lets\n",
      "of\n",
      "python\n",
      "python\n",
      "the\n",
      "to\n",
      "to\n",
      "to\n",
      "together\n",
      "welcome\n",
      "world\n"
     ]
    }
   ],
   "source": [
    "words = [word.lower() for word in fullname.split()]\n",
    "words.sort()\n",
    "\n",
    "for word in words:\n",
    " print(word)"
   ]
  },
  {
   "cell_type": "code",
   "execution_count": null,
   "metadata": {},
   "outputs": [],
   "source": []
  },
  {
   "cell_type": "code",
   "execution_count": null,
   "metadata": {},
   "outputs": [],
   "source": []
  },
  {
   "cell_type": "code",
   "execution_count": null,
   "metadata": {},
   "outputs": [],
   "source": []
  },
  {
   "cell_type": "code",
   "execution_count": null,
   "metadata": {},
   "outputs": [],
   "source": []
  },
  {
   "cell_type": "code",
   "execution_count": null,
   "metadata": {},
   "outputs": [],
   "source": []
  }
 ],
 "metadata": {
  "kernelspec": {
   "display_name": "Python 3",
   "language": "python",
   "name": "python3"
  },
  "language_info": {
   "codemirror_mode": {
    "name": "ipython",
    "version": 3
   },
   "file_extension": ".py",
   "mimetype": "text/x-python",
   "name": "python",
   "nbconvert_exporter": "python",
   "pygments_lexer": "ipython3",
   "version": "3.8.5"
  }
 },
 "nbformat": 4,
 "nbformat_minor": 4
}
